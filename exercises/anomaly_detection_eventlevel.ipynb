{
 "cells": [
  {
   "cell_type": "markdown",
   "metadata": {},
   "source": [
    "# How-to: Anomaly detection in nanoseconds on an FPGA\n",
    "\n",
    "<img src=\"images/front.png\" alt=\"The ADC2021 Challenge\" width=\"300\" img align=\"right\"/>\n",
    "\n",
    "In this notebook we will demonstrate how to design a tiny autoencoder (AE) that we will use for anomaly detection in particle physics. More specifically, we will demonstrate how we can use autoencoders to select potentially New Physics enhanced proton collision events in a more unbiased way than with the usual Level-1 trigger algorithms!\n",
    "\n",
    "Some of the key tools we will use in order to make our AE fast and small enought to fit within the strict latency and resource budget of a L1 trigger algorithm are:\n",
    "- Quantization\n",
    "- Pruning\n",
    "- Highly parallel deployment using hls4ml!\n",
    "\n",
    "We will train the autoencoder to learn to compress and decompress data, assuming that for highly anomalous events, the AE will fail.\n",
    "\n",
    "## Dataset\n",
    "\n",
    "As a dataset, we will use the [ADC2021 dataset](https://mpp-hep.github.io/ADC2021/). It is represented as an array of missing transverse energy (MET), up to 4 e/𝛾, up to 4 muons and 10 jets each described by pT, η, φ and particle ID to mimic a L1 data format. The particles are ordered by pT. If fewer objects are present, the event is zero padded in such a way that the 1st, 5th, and 9th positions correspond to the highest-$p_T$ electron, muon, and jet, respectively. The last index (with cardinality 4) runs over the three features describing each physics object and a particle type index, which is equal to 1, 2, 3 and 4 for MET, electron, muon and jet, respectively.\n",
    "\n",
    "You can train using the provided 4 million background-like events, and then evaluate the AE performance on several different New Physics simulated samples.\n",
    "\n",
    "We'll train using all the background data and test using the A (50 GeV) → 4 l sample. Let's fetch them! The background data can be downloaded [here](https://zenodo.org/record/5046389#.YaeRWL3MLze) and the signal data [here](https://zenodo.org/record/5046446#.YaeSa73MLzd). I have already downloaded it and moved it to folder called `data/`, you can do it by executing the following cell:\n"
   ]
  },
  {
   "cell_type": "code",
   "execution_count": null,
   "metadata": {},
   "outputs": [],
   "source": [
    "import os\n",
    "import requests\n",
    "\n",
    "if not os.path.exists('data/'):\n",
    "    os.mkdir('data/')\n",
    "\n",
    "url = \"https://zenodo.org/record/5046389/files/background_for_training.h5?download=1\"\n",
    "r = requests.get(url, allow_redirects=True)\n",
    "open('data/background_for_training.h5', 'wb').write(r.content)\n",
    "\n",
    "url = \"https://zenodo.org/record/5046446/files/Ato4l_lepFilter_13TeV.h5?download=1\"\n",
    "r = requests.get(url, allow_redirects=True)\n",
    "open('data/Ato4l_lepFilter_13TeV.h5', 'wb').write(r.content)"
   ]
  },
  {
   "cell_type": "markdown",
   "metadata": {},
   "source": [
    "\n",
    "Let's prepare the data!\n",
    "Having very different numerical ranges for the input features, as in this case where $p_T$, $\\eta$ and $\\phi$ have a very diffent mean, makes it difficult for the network to converge. We will therefore standardize the $p_T$.  Also, when there is no lepton present in the event, the values will be zero padded. That means there is an unnatural number of zero entries in the $p_T$. For a real use case, the loss should be rewritten as to not take zero entries into account. Ideally we would also deal with the periodicity of phi etc. Details on the best procedure for preprccesing can be found in [this paper](https://arxiv.org/abs/2108.03986). In the interest of time, we'll only do the $p_T$ scaling.\n",
    "\n",
    "In addition, we also flatten the 2D grid into a 1D array to prepare feeding it into a dense network, and split the training data into train/validation/test sets: "
   ]
  },
  {
   "cell_type": "code",
   "execution_count": null,
   "metadata": {},
   "outputs": [],
   "source": [
    "import h5py\n",
    "import numpy as np\n",
    "from sklearn.model_selection import train_test_split\n",
    "from sklearn.preprocessing import StandardScaler\n",
    "\n",
    "nbkg_events = 1000000 #Depending how much time you have, you can use all of this data or only a fraction\n",
    "# read BACKGROUND data and shuffle it in preparation for training. This takes a while so I've done it in advance!\n",
    "with h5py.File('data/background_for_training.h5', 'r') as file:\n",
    "    full_data = file['Particles'][:,:,:-1] # The last column is the particle ID and we'll skip that for now\n",
    "    print(\"Data shape = (N samples, N particles, N features) = \",full_data.shape)\n",
    "    np.random.shuffle(full_data)\n",
    "    if nbkg_events: full_data = full_data[:nbkg_events,:,:]\n",
    "    pt_scaler = StandardScaler()\n",
    "    full_data[:,:,0] = pt_scaler.fit_transform(full_data[:,:,0])\n",
    "    \n",
    "        \n",
    "# define training, test and validation datasets\n",
    "X_train, X_test = train_test_split(full_data, test_size=0.2, shuffle=True)\n",
    "X_train, X_val = train_test_split(X_train, test_size=0.2)\n",
    "\n",
    "del full_data\n",
    "\n",
    "input_shape= X_train.shape[1]*X_train.shape[2]\n",
    "# flatten the data for model input\n",
    "X_train = X_train.reshape(X_train.shape[0], input_shape)\n",
    "X_test = X_test.reshape(X_test.shape[0], input_shape)\n",
    "X_val = X_val.reshape(X_val.shape[0], input_shape)\n",
    "print(\"Training data shape = \",X_train.shape)    \n",
    "with h5py.File('bkg_dataset.h5', 'w') as h5f:\n",
    "    h5f.create_dataset('X_train', data = X_train)\n",
    "    h5f.create_dataset('X_test', data = X_test)\n",
    "    h5f.create_dataset('X_val', data = X_val)\n",
    "    \n",
    "with h5py.File('data/Ato4l_lepFilter_13TeV.h5', 'r') as file:\n",
    "    signal_data = file['Particles'][:,:,:-1]\n",
    "    signal_data[:,:,0] = pt_scaler.transform(signal_data[:,:,0])\n",
    "    signal_data = signal_data.reshape(signal_data.shape[0],input_shape)\n",
    "with h5py.File('Ato4l_dataset.h5', 'w') as h5f2:\n",
    "    h5f2.create_dataset('Data', data = signal_data)        \n"
   ]
  },
  {
   "cell_type": "markdown",
   "metadata": {},
   "source": [
    "You  now have two new files in your reposity, `bkg_dataset.h5` and `Ato4l_dataset.h5` which contains your train/test/val data to train the autoencoder, as well as a test data to check your performance on a New Physics signal"
   ]
  },
  {
   "cell_type": "markdown",
   "metadata": {},
   "source": [
    "Let's inspect the training data:"
   ]
  },
  {
   "cell_type": "code",
   "execution_count": null,
   "metadata": {},
   "outputs": [],
   "source": [
    "with h5py.File('bkg_dataset.h5', 'r') as file:\n",
    "    X_train = np.array(file['X_train'])\n",
    "    X_test = np.array(file['X_test'])\n",
    "    X_val = np.array(file['X_val'])\n",
    "    \n",
    "with h5py.File('Ato4l_dataset.h5', 'r') as file:\n",
    "    signal_test_data = np.array(file['Data'])\n",
    "    \n",
    " "
   ]
  },
  {
   "cell_type": "code",
   "execution_count": null,
   "metadata": {},
   "outputs": [],
   "source": [
    "import matplotlib.pyplot as plt\n",
    "\n",
    "print(\" Training (#samples,#features):\", X_train.shape)\n",
    "print(\" Testing  (#samples,#features):\", signal_test_data.shape)\n",
    "\n",
    "fig, axs = plt.subplots(1,2,figsize=(8,5))\n",
    "fig.suptitle('Kinematic distributions in bkg vs signal')\n",
    "\n",
    "axs[0].hist(X_train[:,3],bins=100,label=r'Background',histtype='step', linewidth=2, facecolor='none', edgecolor='green',fill=True,density=True)\n",
    "axs[0].hist(signal_test_data[:,3],bins=100,label=r'Signal',histtype='step', linewidth=2, facecolor='none', edgecolor='orchid',fill=True,density=True)\n",
    "axs[0].semilogy()\n",
    "axs[0].set(xlabel=u'Leading e/$\\gamma$ $p_{T}$ ( Norm. GeV)', ylabel='A.U')\n",
    "axs[0].legend(loc='best',frameon=False, ncol=1,fontsize='large')\n",
    "\n",
    "axs[1].hist(X_train[:,15],bins=100,label=r'Background',histtype='step', linewidth=2, facecolor='none', edgecolor='green',fill=True,density=True)\n",
    "axs[1].hist(signal_test_data[:,15],bins=100,label=r'Signal',histtype='step', linewidth=2, facecolor='none', edgecolor='orchid',fill=True,density=True)\n",
    "axs[1].set(xlabel=u'Leading muon $p_{T}$ (Norm. GeV)', ylabel='A.U')\n",
    "axs[1].semilogy()\n",
    "axs[1].legend(loc='best',frameon=False, ncol=1,fontsize='large')\n",
    "print(\"Example data (1,57):\",signal_test_data[3])"
   ]
  },
  {
   "cell_type": "markdown",
   "metadata": {},
   "source": [
    "# Defining the autoencoder\n",
    "\n",
    "Now, let's define an autoencoder to learn to reconstruct the training data after compressing it through a bottleneck, then decompressing it again.\n",
    "\n",
    "<img src=\"images/ae.png\" alt=\"The autoencoder\" width=\"800\" img align=\"center\"/>\n",
    "\n",
    "For that, we need a stack of dense layers:"
   ]
  },
  {
   "cell_type": "code",
   "execution_count": null,
   "metadata": {},
   "outputs": [],
   "source": [
    "import tensorflow as tf\n",
    "from tensorflow.keras.models import Model\n",
    "from tensorflow.keras.layers import Input, Dense, Lambda, BatchNormalization, Activation, Concatenate, Dropout, Layer\n",
    "from tensorflow.keras.layers import ReLU, LeakyReLU\n",
    "\n",
    "input_shape = 57\n",
    "latent_dim = 3\n",
    "#encoder\n",
    "inputArray = Input(shape=(input_shape,))\n",
    "#x = BatchNormalization()(inputArray) #Only use this if you're not standardizing the pT\n",
    "x = Dense(32, kernel_initializer=tf.keras.initializers.HeUniform())(inputArray)\n",
    "x = BatchNormalization()(x)\n",
    "x = LeakyReLU(alpha=0.3)(x)\n",
    "x = Dense(16, kernel_initializer=tf.keras.initializers.HeUniform())(x)\n",
    "x = BatchNormalization()(x)\n",
    "x = LeakyReLU(alpha=0.3)(x)\n",
    "\n",
    "#bottleneck\n",
    "encoder = Dense(latent_dim, kernel_initializer=tf.keras.initializers.HeUniform())(x)\n",
    "\n",
    "#decoder\n",
    "x = Dense(16, kernel_initializer=tf.keras.initializers.HeUniform())(encoder)\n",
    "x = BatchNormalization()(x)\n",
    "x = LeakyReLU(alpha=0.3)(x)\n",
    "x = Dense(32, kernel_initializer=tf.keras.initializers.HeUniform())(x)\n",
    "x = BatchNormalization()(x)\n",
    "x = LeakyReLU(alpha=0.3)(x)\n",
    "decoder = Dense(input_shape, kernel_initializer=tf.keras.initializers.HeUniform(), name='output')(x)\n",
    "\n",
    "#create autoencoder\n",
    "autoencoder = Model(inputs = inputArray, outputs=decoder)\n",
    "autoencoder.summary()\n",
    "\n",
    "# save the encoder-only model for easy access to latent space\n",
    "encoder_model = Model(inputs=inputArray, outputs=encoder, name=\"encoder\")\n"
   ]
  },
  {
   "cell_type": "code",
   "execution_count": null,
   "metadata": {},
   "outputs": [],
   "source": [
    "autoencoder.compile(optimizer=tf.keras.optimizers.Adam(learning_rate=0.00001), loss='mse')"
   ]
  },
  {
   "cell_type": "markdown",
   "metadata": {},
   "source": [
    "# Let's train!"
   ]
  },
  {
   "cell_type": "code",
   "execution_count": null,
   "metadata": {},
   "outputs": [],
   "source": [
    "train = True #If you have a pre-trained model you can set this to false and load the other instead\n",
    "EPOCHS = 50\n",
    "BATCH_SIZE = 1024\n",
    "\n",
    "from tensorflow.keras.callbacks import EarlyStopping, ReduceLROnPlateau, TerminateOnNaN\n",
    "\n",
    "callbacks=[]\n",
    "callbacks.append(ReduceLROnPlateau(monitor='val_loss',  factor=0.1, patience=2, verbose=1, mode='auto', min_delta=0.0001, cooldown=2, min_lr=1E-6))\n",
    "callbacks.append(TerminateOnNaN())\n",
    "\n",
    "if train:\n",
    "    history = autoencoder.fit(X_train, X_train, epochs = EPOCHS, batch_size = BATCH_SIZE,\n",
    "                  validation_data=(X_val, X_val),\n",
    "                  callbacks=callbacks)\n",
    "    # Save the model\n",
    "    autoencoder.save('baseline_ae.h5')\n",
    "    autoencoder.save_weights('baseline_ae_weights_only.h5')\n",
    "    \n",
    "else:\n",
    "    autoencoder = tf.keras.models.load_model('baseline_ae.h5')"
   ]
  },
  {
   "cell_type": "markdown",
   "metadata": {},
   "source": [
    "# Evaluating the model performance\n",
    "\n",
    "Remember that the key metric we use for anomaly detection is the mean-squared-error: If the error is high, the data is more likely to be anomalous, and if the error is low, the data is similar to the training data (which in our case is SM events). We therefore first need to run `model.predict()` in order to get the AE reconstructed output, both for our vanilla SM test data, and for our new leptoquark signal!"
   ]
  },
  {
   "cell_type": "code",
   "execution_count": null,
   "metadata": {},
   "outputs": [],
   "source": [
    "bkg_prediction = autoencoder.predict(X_test)\n",
    "signal_prediction = autoencoder.predict(signal_test_data)"
   ]
  },
  {
   "cell_type": "markdown",
   "metadata": {},
   "source": [
    "Let's see how well the network reconstructs the transverse momentum of the leptons!"
   ]
  },
  {
   "cell_type": "code",
   "execution_count": null,
   "metadata": {},
   "outputs": [],
   "source": [
    "fig, axs = plt.subplots(1,2,figsize=(16,8))\n",
    "fig.suptitle('Real data versus reconsructed data')\n",
    "axs[0].hist(X_test[:,3],bins=100,label=r'Real data',histtype='step', linewidth=2, facecolor='none', edgecolor='green',fill=True,density=True)\n",
    "axs[0].hist(bkg_prediction[:,3],bins=100,label=r'Predicted',histtype='step', linewidth=2, facecolor='none', edgecolor='orchid',fill=True,density=True)\n",
    "axs[0].semilogy()\n",
    "axs[0].set(xlabel=u'Leading e/$\\gamma$ $p_{T}$ ( Norm. GeV)', ylabel='A.U')\n",
    "axs[0].legend(loc='best',frameon=False, ncol=1,fontsize='large')\n",
    "\n",
    "axs[1].hist(X_test[:,15],bins=100,label=r'Real data',histtype='step', linewidth=2, facecolor='none', edgecolor='green',fill=True,density=True)\n",
    "axs[1].hist(bkg_prediction[:,15],bins=100,label=r'Predicted',histtype='step', linewidth=2, facecolor='none', edgecolor='orchid',fill=True,density=True)\n",
    "axs[1].set(xlabel=u'Leading muon $p_{T}$ (Norm. GeV)', ylabel='A.U')\n",
    "axs[1].semilogy()\n",
    "axs[1].legend(loc='best',frameon=False, ncol=1,fontsize='large')"
   ]
  },
  {
   "cell_type": "markdown",
   "metadata": {},
   "source": [
    "The reconstructed $p_T$ has an unphysical tail below zero. For a real usecase, we would force the output to be positive for that column, as well as treat the zero-padded cases differently in the loss.\n",
    "To keep it short, we won't do that now, but you can read more about it [here](https://arxiv.org/abs/2108.03986)\n",
    "\n",
    "We then need to compute the mean-square-error, which will be our final discriminating variable. This you would need to write custom if applying the changes we mention above:"
   ]
  },
  {
   "cell_type": "code",
   "execution_count": null,
   "metadata": {},
   "outputs": [],
   "source": [
    "def mse_loss(true, prediction):\n",
    "    loss = tf.reduce_mean(tf.math.square(true - prediction),axis=-1)\n",
    "    return loss\n",
    "\n",
    "# compute loss value of input data versus AE reconstructed data\n",
    "mse_sm = mse_loss(X_test, bkg_prediction.astype(np.float32)).numpy()\n",
    "mse_bsm = mse_loss(signal_test_data,signal_prediction.astype(np.float32)).numpy()"
   ]
  },
  {
   "cell_type": "markdown",
   "metadata": {},
   "source": [
    "Now, let's look at our discriminant!"
   ]
  },
  {
   "cell_type": "code",
   "execution_count": null,
   "metadata": {},
   "outputs": [],
   "source": [
    "bin_size=100\n",
    "\n",
    "plt.figure(figsize=(8,8))\n",
    "n, bins, patches =plt.hist(mse_bsm, bins=bin_size, label=\"Leptoquark\", density = True, histtype='step', fill=False, edgecolor='orchid', linewidth=1.5,range=[0,200])\n",
    "n_, bins_, patches_ =plt.hist(mse_sm, bins=bin_size, label=\"SM Background\", density = True, histtype='step', fill=False, edgecolor='green', linewidth=1.5,range=[0,200])\n",
    "plt.yscale('log')\n",
    "plt.xlabel(\"Mean-squared-error\")\n",
    "plt.ylabel(\"Probability (a.u.)\")\n",
    "plt.legend(loc='best')\n",
    "plt.show()"
   ]
  },
  {
   "cell_type": "markdown",
   "metadata": {},
   "source": [
    "There seems to be some discrimination power if we cut at very high values of the MSE! Let's look at a ROC curve to make it easier to vizualize"
   ]
  },
  {
   "cell_type": "code",
   "execution_count": null,
   "metadata": {},
   "outputs": [],
   "source": [
    "from sklearn.metrics import roc_curve, auc\n",
    "\n",
    "target_background = np.zeros(mse_sm.shape[0])\n",
    "\n",
    "plt.figure(figsize=(8,8))\n",
    "trueVal = np.concatenate((np.ones(mse_bsm.shape[0]), target_background)) # anomaly=1, bkg=0\n",
    "predVal_loss = np.concatenate((mse_bsm, mse_sm))\n",
    "\n",
    "fpr_loss, tpr_loss, threshold_loss = roc_curve(trueVal, predVal_loss)\n",
    "\n",
    "auc_loss = auc(fpr_loss, tpr_loss)\n",
    "    \n",
    "plt.plot(fpr_loss, tpr_loss, \"-\", label='Leptoquark (auc = %.1f%%)'%(auc_loss*100.), linewidth=1.5, color = \"orchid\")\n",
    "    \n",
    "plt.semilogx()\n",
    "plt.semilogy()\n",
    "plt.ylabel(\"True Positive Rate\")\n",
    "plt.xlabel(\"False Positive Rate\")\n",
    "plt.legend(loc='center right')\n",
    "plt.grid(True)\n",
    "plt.tight_layout()\n",
    "plt.plot(np.linspace(0, 1),np.linspace(0, 1), '--', color='0.75')\n",
    "plt.axvline(0.00001, color='green', linestyle='dashed', linewidth=2) # threshold value for measuring anomaly detection efficiency\n",
    "plt.show()"
   ]
  },
  {
   "cell_type": "markdown",
   "metadata": {},
   "source": [
    "Pretty good! So at a false positive rate of 10E-5, the signal efficiency is almost three orders of magnitude higher! This can obviously be further improved, but I leave that up to you :)"
   ]
  },
  {
   "cell_type": "markdown",
   "metadata": {},
   "source": [
    "# Model compression\n",
    "<img src=\"images/nmi_qkeras_hls4ml.jpeg\" alt=\"hls4ml and qkeras\" width=\"200\" img align=\"left\"/>\n",
    "\n",
    "Now, there is absolutely no way anyone would let you deploy this model on an FPGA in the trigger. It will use far too many resources! Luckily, as we discussed in the lecture, there are some cheap tricks you can perform to compress the model. These are pruning and quantization-aware-training and both are very easily implemented. Let's have a look.\n",
    "\n",
    "To quantize the model during training, such that the network will get the opportunity to adapt to the narrower bitwidth we use the library [QKeras](https://www.nature.com/articles/s42256-021-00356-5.epdf?sharing_token=A6MQVmmncHNyCtDUXzrqtNRgN0jAjWel9jnR3ZoTv0N3uekY-CrHD1aJ9BTeJNRfQ1EhZ9jJIhgZjfrQxrmxMLMZ4eGzSeru7-ASFE-Xt3NVE6yorlffwUN0muAm1auU2I6-5ug4bOLCRYvA0mp-iT-OdPsrBYeH0IHRYx0t3wc%3D), developed in a joint effort between CERN and Google.\n",
    "\n",
    "## Quantization aware training with QKeras\n",
    "\n",
    "# Quantization aware training with QKeras\n",
    "\n",
    "Quantization is a powerful way to reduce model memory and resource consumption. In this tutorial, we will use the libary QKeras to perform quantization aware training (QAT).\n",
    "\n",
    "In contrast to in Keras, where models are trained using floating point precision, QKeras quantizes each of the model weights and activation functions during training, allowing the network to adapt to the numerical precision that will eventually be used on hardware.\n",
    "\n",
    "During the forward pass of the network, each floating point weight is put into one of $2^{bitwidth}$ buckets. Which one it goes into is defined through rounding and clipping schemes.\n",
    "\n",
    "Below you can see an example of a tensor with a (symmetric) dynamic range of $x_{f}$ $[-amax, amax]$ mapped through quantization to a an 8 bit integer, $2^8=256$ discrete values in the interval $[-128, 127]$ (32-bit floating-point can represent ~4B numbers in the interval $[-3.4e38, 3.40e38]$).\n",
    "\n",
    "<img src=\"https://gitlab.cern.ch/fastmachinelearning/cms_mlatl1t_tutorial/-/raw/master/part2/images/8-bit-signed-integer-quantization.png?ref_type=heads\" width=\"800\"/>\n",
    "\n",
    "Quantization of floating point numbers can be achieved using the quantization operation\n",
    "\n",
    "$$x_{q} = Clip(Round(x_{f}/scale))$$\n",
    "\n",
    "where $x_{q}$ is the quantized digit and $x_{f}$ is the floating point digit. $Round$ is a function that applies some rounding scheme to each number and $Clip$ is a function that clips outliers that fall outside the $[-128, 127]$ interval. The $scale$ parameter is obtained by dividing the float-point dynamic-range into 256 equal parts.\n",
    "\n",
    "On FPGA, we do not use int8 quantization, but fixed-point quantization, bu the idea is similar. Fixed-point representation is a way to express fractions with integers and offers more control over precision and range. We can split the $W$-bits making up an integer (in our case $W=8$) to represent the integer part of a number and the fractional part of the number. We usually reserve 1-bit representing the sign of the digit. The radix splits the remaining $W-1$ bits to $I$ most significant bits representing the integer value and $F$ least significant bits representing the fraction. We write this as $<W,I>$, where $F=W-1-I$.  Here is an example for an unsigned $<8,3>$:\n",
    "\n",
    "<img src=\"https://gitlab.cern.ch/fastmachinelearning/cms_mlatl1t_tutorial/-/raw/master/part2/images/fixedpoint.png?ref_type=heads\" width=\"400\"/>\n",
    "\n",
    "\n",
    "This fixed point number corresponds to $2^4\\cdot0+2^3\\cdot0+2^2\\cdot0+2^1\\cdot1+2^0\\cdot0+2^{-1}\\cdot1+2^{-2}\\cdot1+2^{-3}\\cdot0=2.75$.\n",
    "\n",
    "The choice of $I$ and $F$ has to be derived as a trade-off between representation range and precision, where $I$ controls the range and $F$ the precision.\n",
    "\n",
    "In the following we will use a bitwidth of 8 and 0 integer bits. Not considering the sign bit, this means that the smallest number you can represent (the precision) and the largest number (the range) is:\n",
    "\n",
    "$$ \\rm{Precision}= \\frac{1}{2^{F}}= \\frac{1}{2^8} = 0.00390625$$\n",
    "$$\\rm{Range}= [-2^0,-2^0-1]=[-1,0] $$\n",
    "With zero integer bits the largest number you can represent is just below (but not including) 1. For weights in deep neural networks, being constrained to be less than 1 is often a reasonable assumtion.\n",
    "\n",
    "\n",
    "\n",
    "What QKeras (and other QAT libraries) do, is to include the quantization error during the training, in the following way:\n",
    "- \"Fake quantize\" the floating-point weights and activations during the forward pass: quantize the weights and use them for the layer operations\n",
    "- Immediately un-quantize the parameters so the rest of the computations take place in floating-point\n",
    "- During the backward pass, the gradient of the weights is used to update the floating point weight\n",
    "- The quantization operation gradient (zero or undefined) is handled by passing the gradient through as is (\"straight through estimator\")\n",
    "\n"
   ]
  },
  {
   "cell_type": "code",
   "execution_count": null,
   "metadata": {},
   "outputs": [],
   "source": [
    "from qkeras import QDense, QActivation\n",
    "\n",
    "#encoder\n",
    "inputArray = Input(shape=(input_shape,))\n",
    "# x = BatchNormalization()(inputArray)\n",
    "x = QDense(32, kernel_initializer=tf.keras.initializers.HeUniform(),\n",
    "               kernel_quantizer='quantized_bits(8,3,1, alpha=1.0)',\n",
    "               bias_quantizer='quantized_bits(8,3,1, alpha=1.0)')(inputArray)\n",
    "x = BatchNormalization()(x)\n",
    "x = QActivation('quantized_relu(bits=8)')(x)\n",
    "x = QDense(16, kernel_initializer=tf.keras.initializers.HeUniform(),\n",
    "               kernel_quantizer='quantized_bits(8,3,1, alpha=1.0)',\n",
    "               bias_quantizer='quantized_bits(8,3,1, alpha=1.0)')(x)\n",
    "x = BatchNormalization()(x)\n",
    "x = QActivation('quantized_relu(bits=8)')(x)\n",
    "encoder = QDense(latent_dim, kernel_initializer=tf.keras.initializers.HeUniform(),\n",
    "               kernel_quantizer='quantized_bits(16,6,1, alpha=1.0)',\n",
    "               bias_quantizer='quantized_bits(16,6,1, alpha=1.0)', name='bottleneck')(x)\n",
    "\n",
    "#decoder\n",
    "x = QDense(16, kernel_initializer=tf.keras.initializers.HeUniform(),\n",
    "               kernel_quantizer='quantized_bits(8,3,1, alpha=1.0)',\n",
    "               bias_quantizer='quantized_bits(8,3,1, alpha=1.0)')(encoder)\n",
    "x = BatchNormalization()(x)\n",
    "x = QActivation('quantized_relu(bits=8)')(x)\n",
    "x = QDense(32, kernel_initializer=tf.keras.initializers.HeUniform(),\n",
    "               kernel_quantizer='quantized_bits(8,3,1, alpha=1.0)',\n",
    "               bias_quantizer='quantized_bits(8,3,1, alpha=1.0)')(x)\n",
    "x = BatchNormalization()(x)\n",
    "x = QActivation('quantized_relu(bits=8)')(x)\n",
    "decoder = QDense(input_shape, kernel_initializer=tf.keras.initializers.HeUniform(),\n",
    "               kernel_quantizer='quantized_bits(16,6,1, alpha=1.0)',\n",
    "               bias_quantizer='quantized_bits(16,6,1, alpha=1.0)', name='output')(x)\n",
    "\n",
    "#create autoencoder\n",
    "q_autoencoder = Model(inputs = inputArray, outputs=decoder)\n",
    "q_autoencoder.summary()"
   ]
  },
  {
   "cell_type": "markdown",
   "metadata": {},
   "source": [
    "Wait! What is going on here?\n",
    "The magic happens in ```quantized_bits``` (see implementation [here](https://github.com/google/qkeras/blob/master/qkeras/quantizers.py#L1245)), where the parameters are the following:\n",
    "- ```bits```: The bitwidth, allowing you to have $2^{bits}$ unique values of each weight parameter\n",
    "- ```integers```: How many are integer bits, in this case zero. All 8 bits are used to represent the fractional part of the weight parameter, with no bits dedicated to representing whole numbers. This forces the value to be between -1 and 1. For DNNs this can be useful because the focus is entirely on the precision of the fraction rather than the magnitude of the number. Question: Would this also work on the output node if your algorithm is a regression of the jet mass?\n",
    "- ```symmetric```: should the values be symmetric around 0? In this case it doesnt have to be.\n",
    "- ```alpha```: with $2^W$ unique values available, we could let them go from $[-2^W, 2^W-1]$ like above, but we can also let them go from $[-2^W*\\alpha, (2^W-1)*\\alpha]$. ```alpha``` is a scaling of the weights. Enabling this often leads to improved performance, but it doesnt talk so nicely to hls4ml, so we recommend leaving it at 1 (or get ready for having to debug)\n",
    "\n",
    "Having added this, QKeras will automatically apply fake quantization for us during the forward pass, accounting for the quantization error and returning a network that is optimized for the precision you plan on using in hardware.\n",
    "\n",
    "Another thing to notice is that we leave the sigmoid and the final output logit unquantized. This is because this is were we want the values to be very accurate, and it is not going to save us a lot of resources quantizing it.\n",
    "\n",
    "\n",
    "### Automatic model quantization through config\n",
    " You can also set the quantization for the full model using a model configuration. Sometimes this can be sater if you're using the same quantizer for all layers of the same type. You don't have to use this for this tutorial, we already have a model, but we will leave it here as an example:"
   ]
  },
  {
   "cell_type": "code",
   "execution_count": null,
   "metadata": {},
   "outputs": [],
   "source": [
    "autoQuant = False\n",
    "\n",
    "if autoQuant:\n",
    "    config = {\n",
    "      \"QDense\": {\n",
    "          \"kernel_quantizer\": \"quantized_bits(bits=8, integer=0, symmetric=0, alpha=1)\",\n",
    "          \"bias_quantizer\": \"quantized_bits(bits=8, integer=0, symmetric=0, alpha=1)\",\n",
    "      },\n",
    "      \"QActivation\": { \"relu\": \"quantized_relu(8)\" }\n",
    "    }\n",
    "    from qkeras.utils import model_quantize\n",
    "\n",
    "    qmodel = model_quantize(model, config, 4, transfer_weights=True)\n",
    "\n",
    "    for layer in qmodel.layers:\n",
    "        if hasattr(layer, \"kernel_quantizer\"):\n",
    "            print(layer.name, \"kernel:\", str(layer.kernel_quantizer_internal), \"bias:\", str(layer.bias_quantizer_internal))\n",
    "        elif hasattr(layer, \"quantizer\"):\n",
    "            print(layer.name, \"quantizer:\", str(layer.quantizer))\n",
    "\n",
    "    print()\n",
    "    qmodel.summary()\n"
   ]
  },
  {
   "cell_type": "markdown",
   "metadata": {},
   "source": [
    "## But how many bits?\n",
    "\n",
    "So now we know how to quantize our models, but how do we know wich precision to choose?\n",
    "Finding the best number of bits and integer bits to use is non-trivial, and there are two ways we recommend:\n",
    "- The easiest strategy is to scan over the possible bit widths from binary up to some maximum value and choose the smallest one that still has acceptable accuracy, and this is what we often do. \n",
    "Code for how to do this can be found [here](https://github.com/thesps/keras-training/blob/qkeras/train/train_scan_models.py#L16), and is illustrated below.\n",
    "For binary and ternary quantization, we use the special ```binary(alpha=1.0)(x)``` and ```ternary(alpha=1.0)(x)``` quantizers. \n",
    "\n",
    "<img src=\"https://gitlab.cern.ch/fastmachinelearning/cms_mlatl1t_tutorial/-/raw/master/part2/images/quant_scan.png?ref_type=heads\" width=\"400\"/>\n",
    "\n",
    "- Another thing you can do is to use our library for automatic quantization, [AutoQKeras](https://github.com/google/qkeras/blob/master/notebook/AutoQKeras.ipynb), to find the optimal quantization for each layer. This runs hyperparameter optimisation over quantizers/nodes/filters simultenously. An example can be found at the end of [this notebook](https://github.com/fastmachinelearning/hls4ml-tutorial/blob/main/part6_cnns.ipynb) \"Bonus exercise: Automatic quantization with AutoQKeras\"."
   ]
  },
  {
   "cell_type": "markdown",
   "metadata": {},
   "source": [
    "## Pruning\n",
    "\n",
    "Besides reducing the numerical precision of all the weights, biases and activations, I also want to remove neurons and synapses that do not contribute much to the network overall decision. We do that by pruning, let's remove 50\\% of the weights (spasity=0.5):\n",
    "\n",
    "Easy as that! Let's add some pruning on top, 50% sparsity (removing 50% of the weights). Let's make sure to skip our latent dimension!"
   ]
  },
  {
   "cell_type": "code",
   "execution_count": null,
   "metadata": {},
   "outputs": [],
   "source": [
    "import tensorflow_model_optimization as tfmot\n",
    "from tensorflow_model_optimization.python.core.sparsity.keras import prune, pruning_callbacks, pruning_schedule\n",
    "from tensorflow_model_optimization.sparsity.keras import strip_pruning\n",
    "\n",
    "def pruneFunction(layer):\n",
    "    pruning_params = {'pruning_schedule': pruning_schedule.PolynomialDecay(initial_sparsity=0.05,final_sparsity=0.50, begin_step=0, end_step=100, frequency=100)}\n",
    "    if isinstance(layer, tf.keras.layers.Dense) and layer.name!='bottleneck':\n",
    "      return tfmot.sparsity.keras.prune_low_magnitude(layer, **pruning_params)  \n",
    "    return layer\n",
    "\n",
    "q_autoencoder.load_weights('baseline_ae_weights_only.h5')\n",
    "qp_autoencoder = tf.keras.models.clone_model( q_autoencoder, clone_function=pruneFunction)\n",
    "qp_autoencoder.compile(optimizer=tf.keras.optimizers.Adam(learning_rate=0.00001), loss='mse')"
   ]
  },
  {
   "cell_type": "markdown",
   "metadata": {},
   "source": [
    "## Defining the data input type\n",
    "Great, we now have our model ready to be trained! There is one last important thing we have to think about and that is the *precision of the input*.  In hardware, all of the inputs are quantized.\n",
    "\n",
    "Ideally, when you train your network, you use the hardware values that the algorithm will actually receive when running inference in the trigger.\n",
    "\n",
    "If the inputs were all scaled to have a mean of zero and variance of one, rhat means that the new optimal precision for the inputs have changed and you need to define what the precision will be. Here we will do it by inspection and intuition, and use the same precision for all of the input features. Let's look at the full input value distribution:"
   ]
  },
  {
   "cell_type": "code",
   "execution_count": null,
   "metadata": {},
   "outputs": [],
   "source": [
    "\n",
    "# import matplotlib.pyplot as plt\n",
    "\n",
    "\n",
    "\n",
    "# plt.figure(figsize=(10, 6))\n",
    "# #Input distribution, stacked per feature. This is very slow to plot, so lets look at all the features flattened later on\n",
    "# plt.hist(X_train, bins=bins, stacked=True, label=[f'Input {i+1}' for i in range(X_train.shape[1])]) \n",
    "# # plt.hist(X_train.flatten(), bins=bins, color='orangered', label='Floating point')\n",
    "# plt.xlabel('Feature Value (standardized)')\n",
    "# plt.ylabel('Frequency')\n",
    "# plt.legend(loc='upper right', ncol=2)\n",
    "# plt.semilogy()\n",
    "# plt\n",
    "\n",
    "bins = 4096\n",
    "plt.figure(figsize=(10, 6))\n",
    "\n",
    "# plt.hist(qX_train, bins=bins, stacked=True, label=[f'Input {i+1}' for i in range(X_train.shape[1])])\n",
    "plt.hist(X_train.flatten(), bins=bins, color='orangered', label='Floating point')\n",
    "plt.xlabel('Feature Value (standardized)')\n",
    "plt.ylabel('Frequency')\n",
    "plt.legend(loc='upper right', ncol=2)\n",
    "plt.semilogy()\n",
    "plt\n"
   ]
  },
  {
   "cell_type": "markdown",
   "metadata": {},
   "source": [
    "### <span style=\"color:green\">This takes a minute to plot, read on while you wait (2 minutes)</span>\n",
    "\n",
    "In this case, the values seem to be mostly <100, with a few outliers so lets assume 8 integer bits ($2^8=256$) is sufficient (the rest will get clipped). The number of fractional bits will define our precision, and will affect the network performance. Let's assume 10 is sufficient (the smallest increment we can represent is $2^{-10}=0.0009765625$).\n",
    "\n",
    "We can evaluate these choices by comparing the accuracy of the network to that in the previous part. \n",
    "\n",
    "To make our network adapt to this input precision, we need to \"treat\" our training and testing set with a quantizer to go from FP32 $\\rightarrow <18,8>$:"
   ]
  },
  {
   "cell_type": "code",
   "execution_count": null,
   "metadata": {},
   "outputs": [],
   "source": [
    "import numpy as np\n",
    "from qkeras.quantizers import quantized_bits, quantized_relu\n",
    "input_quantizer = quantized_bits(bits=18, integer=8, symmetric=0, alpha=1)\n",
    "qX_train = input_quantizer(X_train.astype(np.float32)).numpy()\n",
    "qX_test = input_quantizer(X_test.astype(np.float32)).numpy()\n",
    "\n",
    "# Save the quantized test data and labels to a numpy file, such that it can be used to test the firmware\n",
    "np.save('qX_test.npy', qX_test)\n"
   ]
  },
  {
   "cell_type": "code",
   "execution_count": null,
   "metadata": {},
   "outputs": [],
   "source": [
    "plt.figure(figsize=(10, 6))\n",
    "\n",
    "# plt.hist(qX_train, bins=bins, stacked=True, label=[f'Input {i+1}' for i in range(X_train.shape[1])])\n",
    "plt.hist(X_train.flatten(), bins=bins, color='orangered', label='Floating point')\n",
    "plt.hist(qX_train.flatten(), bins=bins, color='royalblue', label='Quantized')\n",
    "plt.xlabel('Feature Value (standardized)')\n",
    "plt.ylabel('Frequency')\n",
    "plt.legend(loc='upper right', ncol=2)\n",
    "plt.semilogy()\n",
    "plt"
   ]
  },
  {
   "cell_type": "markdown",
   "metadata": {},
   "source": [
    "The value distribution looks similar, but we can not really say how much we lose in performance before training with different input precisions.\n",
    "\n",
    "## Train the network quantization aware\n",
    "Phew, okay, finally time to train. For this part there are 2 things to note: you need to add a pruning callback and also you might need to adjust the learning rate (like add a learning rate decay). Also, most likely you need to increase the number of epochs.\n",
    "\n",
    "Let's train!"
   ]
  },
  {
   "cell_type": "code",
   "execution_count": null,
   "metadata": {},
   "outputs": [],
   "source": [
    "train = True\n",
    "EPOCHS = 50\n",
    "BATCH_SIZE = 1024\n",
    "\n",
    "from tensorflow.keras.callbacks import EarlyStopping, ReduceLROnPlateau, TerminateOnNaN\n",
    "\n",
    "callbacks=[]\n",
    "callbacks.append(ReduceLROnPlateau(monitor='val_loss',  factor=0.1, patience=2, verbose=1, mode='auto', min_delta=0.0001, cooldown=2, min_lr=1E-6))\n",
    "callbacks.append(TerminateOnNaN())\n",
    "callbacks.append(pruning_callbacks.UpdatePruningStep())\n",
    "if train:\n",
    "        \n",
    "    history = qp_autoencoder.fit(X_train, X_train, epochs = EPOCHS, batch_size = BATCH_SIZE,\n",
    "                  validation_data=(X_val, X_val),\n",
    "                  callbacks=callbacks)\n",
    "    # Save the model\n",
    "    qp_autoencoder = strip_pruning(qp_autoencoder)\n",
    "    qp_autoencoder.save('qkeras_ae.h5')\n",
    "    \n",
    "else:\n",
    "    from qkeras.utils import _add_supported_quantized_objects\n",
    "    co = {}; _add_supported_quantized_objects(co)\n",
    "\n",
    "    qp_autoencoder = tf.keras.models.load_model('qkeras_ae.h5',custom_objects=co)\n",
    "    "
   ]
  },
  {
   "cell_type": "markdown",
   "metadata": {},
   "source": [
    "Let's quickly check that the pruning worked and 30% of the weights are indeed 0!"
   ]
  },
  {
   "cell_type": "code",
   "execution_count": null,
   "metadata": {},
   "outputs": [],
   "source": [
    "def doWeights(model):\n",
    "\n",
    "    allWeightsByLayer = {}\n",
    "    for layer in model.layers:\n",
    "        if (layer._name).find(\"batch\")!=-1 or len(layer.get_weights())<1:\n",
    "            continue \n",
    "        weights=layer.weights[0].numpy().flatten()  \n",
    "        allWeightsByLayer[layer._name] = weights\n",
    "        print('Layer {}: % of zeros = {}'.format(layer._name,np.sum(weights==0)/np.size(weights)))\n",
    "\n",
    "    labelsW = []\n",
    "    histosW = []\n",
    "\n",
    "    for key in reversed(sorted(allWeightsByLayer.keys())):\n",
    "        labelsW.append(key)\n",
    "        histosW.append(allWeightsByLayer[key])\n",
    "\n",
    "    fig = plt.figure(figsize=(10,10))\n",
    "    bins = np.linspace(-1.5, 1.5, 50)\n",
    "    plt.hist(histosW,bins,histtype='stepfilled',stacked=True,label=labelsW, edgecolor='black')\n",
    "    plt.legend(frameon=False,loc='upper left')\n",
    "    plt.ylabel('Number of Weights')\n",
    "    plt.xlabel('Weights')\n",
    "    plt.figtext(0.2, 0.38,model._name, wrap=True, horizontalalignment='left',verticalalignment='center')\n",
    "    \n",
    "doWeights(autoencoder) \n",
    "doWeights(qp_autoencoder) "
   ]
  },
  {
   "cell_type": "markdown",
   "metadata": {},
   "source": [
    "Indeed, a huge spike at zero for the pruned model! Let's compare the performance to the floating point precision, unpruned model:"
   ]
  },
  {
   "cell_type": "code",
   "execution_count": null,
   "metadata": {},
   "outputs": [],
   "source": [
    "bkg_prediction = qp_autoencoder.predict(X_test)\n",
    "signal_prediction = qp_autoencoder.predict(signal_test_data)\n",
    "\n",
    "# compute loss value of input data versus AE reconstructed data\n",
    "q_mse_sm = mse_loss(X_test, bkg_prediction.astype(np.float32)).numpy()\n",
    "q_mse_bsm = mse_loss(signal_test_data,signal_prediction.astype(np.float32)).numpy()\n",
    "\n",
    "target_background = np.zeros(q_mse_sm.shape[0])\n",
    "\n",
    "plt.figure(figsize=(8,8))\n",
    "trueVal = np.concatenate((np.ones(q_mse_bsm.shape[0]), target_background)) # anomaly=1, bkg=0\n",
    "predVal_loss = np.concatenate((q_mse_bsm, q_mse_sm))\n",
    "\n",
    "q_fpr_loss, q_tpr_loss, q_threshold_loss = roc_curve(trueVal, predVal_loss)\n",
    "\n",
    "q_auc_loss = auc(q_fpr_loss, q_tpr_loss)"
   ]
  },
  {
   "cell_type": "code",
   "execution_count": null,
   "metadata": {},
   "outputs": [],
   "source": [
    "plt.figure(figsize=(8,8))\n",
    "    \n",
    "plt.plot(fpr_loss, tpr_loss, \"-\", label='Baseline (auc = %.1f%%)'%(auc_loss*100.), linewidth=1.5, color = \"orchid\")\n",
    "plt.plot(q_fpr_loss, q_tpr_loss, \"-\", label='Quantized+Pruned (auc = %.1f%%)'%(q_auc_loss*100.), linewidth=1.5, color = \"green\")\n",
    "\n",
    "plt.semilogx()\n",
    "plt.semilogy()\n",
    "plt.ylabel(\"True Positive Rate\")\n",
    "plt.xlabel(\"False Positive Rate\")\n",
    "plt.legend(loc='center right')\n",
    "plt.grid(True)\n",
    "plt.tight_layout()\n",
    "plt.ylim(0.001,1)\n",
    "plt.plot(np.linspace(0, 1),np.linspace(0, 1), '--', color='0.75')\n",
    "plt.axvline(0.00001, color='orange', linestyle='dashed', linewidth=2) # threshold value for measuring anomaly detection efficiency\n",
    "plt.show()"
   ]
  },
  {
   "cell_type": "markdown",
   "metadata": {},
   "source": [
    "Take a moment to appreciate what an absolutely fantastic result this is! \n",
    "\n",
    "We can reduce the numerical precision of the model from floating point 32 representation to 8-bit fixed point precision, remove 50% of the weights *and still get the same performance*!! This is a crucial, and absolutely neccessary, part of making deep neural networks in particle detector data aquisition systems a reality (also, note that AUC is not a good metric for trigger applications, where you typically operate at very low false positive rates of 10E-5).\n",
    "\n",
    "\n",
    "\n",
    "So it seems despite having reduced the numerical precision of the model and the input, as well as removing 50% of the model weights, we're doing pretty good! This can be tuned to get even better, by carefully adjusting the input precision and the model precision, especially increaseing the precision of the logit layer.\n",
    "\n",
    "\n",
    "Now some exersices on AD before we move to firmware!\n",
    "\n",
    "\n",
    "# Exercises\n",
    "\n",
    "- Perform a PCA on the training images using sklearn.decomposition.PCA with 2 components.\n",
    "\n",
    "- Plot the PCA ROC curve. Report the AUC.\n",
    "\n",
    "- Plot the 2D latent space for signal and background\n",
    "\n",
    "- Turn the AE into a VAE:\n",
    "\n",
    "- Which is the better anomaly detection algorithm? \n",
    "- How can you improve the performance?\n",
    "\n",
    "\n",
    "\n",
    "\n",
    "........\n",
    "\n",
    "\n",
    "\n",
    "\n",
    "\n",
    "\n",
    "\n",
    "\n",
    ".......\n",
    "\n",
    "\n",
    "\n",
    "\n",
    "\n",
    "\n",
    "Some hints:"
   ]
  },
  {
   "cell_type": "markdown",
   "metadata": {},
   "source": []
  },
  {
   "cell_type": "markdown",
   "metadata": {},
   "source": []
  },
  {
   "cell_type": "code",
   "execution_count": null,
   "metadata": {},
   "outputs": [],
   "source": [
    "from sklearn.decomposition import PCA\n",
    "from sklearn.preprocessing import StandardScaler\n",
    "\n",
    "scaler = StandardScaler()\n",
    "X_scaled = scaler.fit_transform(X_train)\n",
    "\n",
    "# Apply PCA\n",
    "pca = PCA(n_components=2)\n",
    "X_pca = pca.fit_transform(X_scaled)\n",
    "\n",
    "# Transform signal using  same scaler and PCA\n",
    "signal_test_scaled = scaler.transform(signal_test_data)\n",
    "signal_test_pca = pca.transform(signal_test_scaled)\n",
    "\n",
    "# Step 3: Plot both\n",
    "plt.figure(figsize=(8, 6))\n",
    "plt.scatter(X_pca[:, 0], X_pca[:, 1], alpha=0.5, c='blue', label='Background')\n",
    "plt.scatter(signal_test_pca[:, 0], signal_test_pca[:, 1], alpha=0.2, c='red', label='Signal')\n",
    "plt.xlabel('Principal Component 1')\n",
    "plt.ylabel('Principal Component 2')\n",
    "plt.legend()\n",
    "\n",
    "plt.show()\n",
    "\n",
    "\n"
   ]
  },
  {
   "cell_type": "code",
   "execution_count": null,
   "metadata": {},
   "outputs": [],
   "source": [
    "# Encode the test data to latent space\n",
    "latent_representations_b = encoder_model.predict(X_test)\n",
    "latent_representations_s = encoder_model.predict(signal_test_data)\n",
    "\n",
    "# Plot\n",
    "plt.figure(figsize=(8,6))\n",
    "plt.scatter(latent_representations_b[:, 0], latent_representations_b[:, 1], \n",
    "            alpha=0.2, c='blue', edgecolor='k', label='Background (b)')\n",
    "plt.scatter(latent_representations_s[:, 0], latent_representations_s[:, 1], \n",
    "            alpha=0.2, c='red', edgecolor='k', label='Signal (s)')\n",
    "plt.xlabel(\"Latent Dimension 1\")\n",
    "plt.ylabel(\"Latent Dimension 2\")\n",
    "plt.legend()\n",
    "plt.show()\n"
   ]
  },
  {
   "cell_type": "markdown",
   "metadata": {},
   "source": [
    "# Let's go variational!\n"
   ]
  },
  {
   "cell_type": "code",
   "execution_count": null,
   "metadata": {},
   "outputs": [],
   "source": [
    "import tensorflow as tf\n",
    "from tensorflow.keras.models import Model\n",
    "from tensorflow.keras.layers import Input, Dense, Lambda, BatchNormalization, LeakyReLU\n",
    "from tensorflow.keras import backend as K\n",
    "\n",
    "# Dimensions\n",
    "input_shape = 57\n",
    "latent_dim = 2\n",
    "\n",
    "# Reparameterization trick\n",
    "def sampling(args):\n",
    "    z_mean, z_log_var = args\n",
    "    epsilon = K.random_normal(shape=(K.shape(z_mean)[0], latent_dim), mean=0., stddev=1.)\n",
    "    return z_mean + K.exp(0.5 * z_log_var) * epsilon\n",
    "\n",
    "# Input\n",
    "inputArray = Input(shape=(input_shape,))\n",
    "\n",
    "# Encoder\n",
    "x = Dense(32, kernel_initializer=tf.keras.initializers.HeUniform())(inputArray)\n",
    "x = BatchNormalization()(x)\n",
    "x = LeakyReLU(alpha=0.3)(x)\n",
    "x = Dense(16, kernel_initializer=tf.keras.initializers.HeUniform())(x)\n",
    "x = BatchNormalization()(x)\n",
    "x = LeakyReLU(alpha=0.3)(x)\n",
    "\n",
    "# Bottleneck\n",
    "z_mean = Dense(latent_dim, name=\"z_mean\")(x)\n",
    "z_log_var = Dense(latent_dim, name=\"z_log_var\")(x)\n",
    "z = Lambda(sampling, output_shape=(latent_dim,), name='z')([z_mean, z_log_var])\n",
    "\n",
    "# Decoder\n",
    "decoder_input = Dense(16, kernel_initializer=tf.keras.initializers.HeUniform())(z)\n",
    "decoder_input = BatchNormalization()(decoder_input)\n",
    "decoder_input = LeakyReLU(alpha=0.3)(decoder_input)\n",
    "decoder_input = Dense(32, kernel_initializer=tf.keras.initializers.HeUniform())(decoder_input)\n",
    "decoder_input = BatchNormalization()(decoder_input)\n",
    "decoder_input = LeakyReLU(alpha=0.3)(decoder_input)\n",
    "output = Dense(input_shape, kernel_initializer=tf.keras.initializers.HeUniform())(decoder_input)\n",
    "\n",
    "# VAE model\n",
    "vae = Model(inputArray, output, name=\"vae\")\n",
    "\n",
    "# Custom loss\n",
    "reconstruction_loss = tf.keras.losses.mse(inputArray, output)\n",
    "reconstruction_loss = tf.reduce_mean(reconstruction_loss) * input_shape\n",
    "\n",
    "kl_loss = -0.5 * tf.reduce_sum(1 + z_log_var - tf.square(z_mean) - tf.exp(z_log_var), axis=-1)\n",
    "kl_loss = tf.reduce_mean(kl_loss)\n",
    "\n",
    "vae_loss = reconstruction_loss + 0.02*kl_loss\n",
    "vae.add_loss(vae_loss)\n",
    "vae.compile(optimizer='adam')\n",
    "\n",
    "vae.summary()\n",
    "\n",
    "# Save encoder\n",
    "vae_encoder = Model(inputs=inputArray, outputs=z_mean, name=\"encoder\")  # use z if you want noisy samples\n"
   ]
  },
  {
   "cell_type": "code",
   "execution_count": null,
   "metadata": {},
   "outputs": [],
   "source": [
    "history = vae.fit(X_train, X_train, epochs = EPOCHS, batch_size = BATCH_SIZE,\n",
    "                  validation_data=(X_val, X_val),\n",
    "                  callbacks=callbacks)"
   ]
  },
  {
   "cell_type": "code",
   "execution_count": null,
   "metadata": {},
   "outputs": [],
   "source": [
    "# Encode the test data to latent space\n",
    "latent_representations_vae_b = vae_encoder.predict(X_test)\n",
    "latent_representations_vae_s = vae_encoder.predict(signal_test_data)\n",
    "\n",
    "# Plot\n",
    "plt.figure(figsize=(8,6))\n",
    "plt.scatter(latent_representations_vae_b[:, 0], latent_representations_vae_b[:, 1], alpha=0.6, c='blue', edgecolor='k')\n",
    "plt.scatter(latent_representations_vae_s[:, 0], latent_representations_vae_s[:, 1], alpha=0.6, c='red', edgecolor='k')\n",
    "plt.xlabel(\"Latent Dimension 1\")\n",
    "plt.ylabel(\"Latent Dimension 2\")\n",
    "plt.grid(True)\n",
    "plt.tight_layout()\n",
    "plt.show()"
   ]
  },
  {
   "cell_type": "markdown",
   "metadata": {},
   "source": []
  },
  {
   "cell_type": "markdown",
   "metadata": {},
   "source": []
  },
  {
   "cell_type": "code",
   "execution_count": null,
   "metadata": {},
   "outputs": [],
   "source": []
  },
  {
   "cell_type": "code",
   "execution_count": null,
   "metadata": {},
   "outputs": [],
   "source": []
  },
  {
   "cell_type": "code",
   "execution_count": null,
   "metadata": {},
   "outputs": [],
   "source": []
  }
 ],
 "metadata": {
  "kernelspec": {
   "display_name": "Python (ad_pynq)",
   "language": "python",
   "name": "ad_pynq"
  },
  "language_info": {
   "codemirror_mode": {
    "name": "ipython",
    "version": 3
   },
   "file_extension": ".py",
   "mimetype": "text/x-python",
   "name": "python",
   "nbconvert_exporter": "python",
   "pygments_lexer": "ipython3",
   "version": "3.9.7"
  }
 },
 "nbformat": 4,
 "nbformat_minor": 4
}
